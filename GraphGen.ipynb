{
 "cells": [
  {
   "cell_type": "code",
   "execution_count": 1,
   "metadata": {
    "collapsed": true
   },
   "outputs": [],
   "source": [
    "import json\n",
    "import numpy as np\n",
    "import scipy as sp\n",
    "\n",
    "from scipy.stats import norm\n",
    "from scipy.spatial import distance\n",
    "from matplotlib import style\n",
    "from matplotlib import pyplot as plt\n",
    "\n",
    "style.use('ggplot')\n",
    "%matplotlib inline"
   ]
  },
  {
   "cell_type": "code",
   "execution_count": 2,
   "metadata": {
    "collapsed": true
   },
   "outputs": [],
   "source": [
    "gCenter = np.random.rand(8,2) * 4096 - 2048\n",
    "gWeight = np.abs(np.random.randn(8))\n",
    "gIndex = np.random.choice(8, 512, p=gWeight/gWeight.sum())\n",
    "gDist = np.random.randn(512, 2) * 256\n",
    "\n",
    "points = gDist + gCenter[gIndex,:]"
   ]
  },
  {
   "cell_type": "code",
   "execution_count": 3,
   "metadata": {},
   "outputs": [
    {
     "data": {
      "text/plain": [
       "<matplotlib.collections.PathCollection at 0x1dbcdca7438>"
      ]
     },
     "execution_count": 3,
     "metadata": {},
     "output_type": "execute_result"
    },
    {
     "data": {
      "image/png": "[encoded data removed]",
      "text/plain": [
       "<matplotlib.figure.Figure at 0x1dbca2f8c88>"
      ]
     },
     "metadata": {},
     "output_type": "display_data"
    }
   ],
   "source": [
    "plt.scatter(points[:,0], points[:,1], s=1)"
   ]
  },
  {
   "cell_type": "code",
   "execution_count": 4,
   "metadata": {
    "collapsed": true
   },
   "outputs": [],
   "source": [
    "disG = distance.cdist(gCenter, points)\n",
    "probG = norm.pdf(disG/(256))\n",
    "probG = probG / probG.sum(axis=1,keepdims=True)\n",
    "adjMatrix = np.zeros((512,512), np.bool) "
   ]
  },
  {
   "cell_type": "code",
   "execution_count": 5,
   "metadata": {},
   "outputs": [
    {
     "name": "stdout",
     "output_type": "stream",
     "text": [
      "Round  500 finished.  485 links created.\n",
      "Round  1000 finished.  963 links created.\n",
      "Round  1500 finished.  1416 links created.\n",
      "Round  2000 finished.  1855 links created.\n",
      "Round  2500 finished.  2275 links created.\n",
      "Round  3000 finished.  2725 links created.\n",
      "Round  3500 finished.  3146 links created.\n",
      "Round  4000 finished.  3578 links created.\n",
      "Round  4500 finished.  4010 links created.\n",
      "Round  5000 finished.  4443 links created.\n"
     ]
    }
   ],
   "source": [
    "counter = 0\n",
    "while adjMatrix.sum() < 512*9:\n",
    "    i = np.random.choice(8, p=gWeight/gWeight.sum())\n",
    "    source, target = np.random.choice(512, 2, p=probG[i])\n",
    "    if source == target:\n",
    "        continue\n",
    "    elif source > target:\n",
    "        source, target = target, source\n",
    "    adjMatrix[source][target] = True\n",
    "    \n",
    "    counter += 1\n",
    "    if not counter % 500:\n",
    "    # Increase prob to pick points further\n",
    "    \n",
    "        probG = norm.pdf(disG/(256*(1+counter//2500)))\n",
    "        probG = probG / probG.sum(axis=1,keepdims=True)  \n",
    "        \n",
    "        print(\"Round \", counter, \"finished. \", \n",
    "              adjMatrix.sum(), \"links created.\")\n",
    "        \n",
    "        \n",
    "linksPos = np.argwhere(adjMatrix)"
   ]
  },
  {
   "cell_type": "code",
   "execution_count": 6,
   "metadata": {
    "collapsed": true
   },
   "outputs": [],
   "source": [
    "nodes = []\n",
    "for i, (px, py), g in zip(range(512), points.tolist(), gIndex):\n",
    "    nodes.append({\n",
    "        \"id\": str(i),\n",
    "        \"x\": float(px/2),\n",
    "        \"y\": float(py/2),\n",
    "        \"group\": int(g)\n",
    "    })\n",
    "    \n",
    "links = []\n",
    "for source, target in linksPos:\n",
    "    if gIndex[source] != gIndex[target]:\n",
    "        isBridge = True\n",
    "    else:\n",
    "        isBridge = False\n",
    "        \n",
    "    links.append({\n",
    "        \"source\": str(source),\n",
    "        \"target\": str(target),\n",
    "        \"isBridge\": isBridge\n",
    "    })"
   ]
  },
  {
   "cell_type": "code",
   "execution_count": 7,
   "metadata": {
    "collapsed": true
   },
   "outputs": [],
   "source": [
    "with open(b\"C:\\Users\\kaidonghu\\Desktop\\d3graphdemo\\graph.json\", \"w\") as f:\n",
    "    json.dump({\n",
    "        \"nodes\":nodes,\n",
    "        \"links\":links\n",
    "    }, f, indent=2)"
   ]
  },
  {
   "cell_type": "code",
   "execution_count": null,
   "metadata": {
    "collapsed": true
   },
   "outputs": [],
   "source": []
  }
 ],
 "metadata": {
  "kernelspec": {
   "display_name": "Python 3",
   "language": "python",
   "name": "python3"
  },
  "language_info": {
   "codemirror_mode": {
    "name": "ipython",
    "version": 3
   },
   "file_extension": ".py",
   "mimetype": "text/x-python",
   "name": "python",
   "nbconvert_exporter": "python",
   "pygments_lexer": "ipython3",
   "version": "3.6.1"
  }
 },
 "nbformat": 4,
 "nbformat_minor": 2
}
